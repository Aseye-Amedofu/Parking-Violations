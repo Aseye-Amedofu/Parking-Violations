{
 "cells": [
  {
   "cell_type": "code",
   "execution_count": 1,
   "id": "76b6bcb6",
   "metadata": {},
   "outputs": [],
   "source": [
    "import pandas as pd"
   ]
  },
  {
   "cell_type": "code",
   "execution_count": 6,
   "id": "dc2d0f53",
   "metadata": {},
   "outputs": [
    {
     "data": {
      "text/html": [
       "<div>\n",
       "<style scoped>\n",
       "    .dataframe tbody tr th:only-of-type {\n",
       "        vertical-align: middle;\n",
       "    }\n",
       "\n",
       "    .dataframe tbody tr th {\n",
       "        vertical-align: top;\n",
       "    }\n",
       "\n",
       "    .dataframe thead th {\n",
       "        text-align: right;\n",
       "    }\n",
       "</style>\n",
       "<table border=\"1\" class=\"dataframe\">\n",
       "  <thead>\n",
       "    <tr style=\"text-align: right;\">\n",
       "      <th></th>\n",
       "      <th>Plate ID</th>\n",
       "      <th>Registration State</th>\n",
       "      <th>Vehicle Make</th>\n",
       "      <th>Violation Time</th>\n",
       "      <th>Street Name</th>\n",
       "      <th>Vehicle Color</th>\n",
       "    </tr>\n",
       "  </thead>\n",
       "  <tbody>\n",
       "    <tr>\n",
       "      <th>0</th>\n",
       "      <td>KGK6659</td>\n",
       "      <td>NY</td>\n",
       "      <td>BMW</td>\n",
       "      <td>0637P</td>\n",
       "      <td>WB ATLANTIC AVE @ SH</td>\n",
       "      <td>GY</td>\n",
       "    </tr>\n",
       "    <tr>\n",
       "      <th>1</th>\n",
       "      <td>L5232HY</td>\n",
       "      <td>TN</td>\n",
       "      <td>INTER</td>\n",
       "      <td>0853A</td>\n",
       "      <td>Rockaway Beach Blvd</td>\n",
       "      <td>WHITE</td>\n",
       "    </tr>\n",
       "    <tr>\n",
       "      <th>2</th>\n",
       "      <td>BPMN76</td>\n",
       "      <td>FL</td>\n",
       "      <td>NISSA</td>\n",
       "      <td>0853A</td>\n",
       "      <td>W 113th St</td>\n",
       "      <td>BLACK</td>\n",
       "    </tr>\n",
       "    <tr>\n",
       "      <th>3</th>\n",
       "      <td>57387MJ</td>\n",
       "      <td>NY</td>\n",
       "      <td>NaN</td>\n",
       "      <td>0444P</td>\n",
       "      <td>W 33rd St</td>\n",
       "      <td>WH</td>\n",
       "    </tr>\n",
       "    <tr>\n",
       "      <th>4</th>\n",
       "      <td>M81KFJ</td>\n",
       "      <td>NJ</td>\n",
       "      <td>TOYOT</td>\n",
       "      <td>0723A</td>\n",
       "      <td>WB FOSTER AVE @ E 18</td>\n",
       "      <td>NaN</td>\n",
       "    </tr>\n",
       "    <tr>\n",
       "      <th>...</th>\n",
       "      <td>...</td>\n",
       "      <td>...</td>\n",
       "      <td>...</td>\n",
       "      <td>...</td>\n",
       "      <td>...</td>\n",
       "      <td>...</td>\n",
       "    </tr>\n",
       "    <tr>\n",
       "      <th>49995</th>\n",
       "      <td>JPN4910</td>\n",
       "      <td>NY</td>\n",
       "      <td>FORD</td>\n",
       "      <td>0342P</td>\n",
       "      <td>EB E 125TH ST @ 2ND</td>\n",
       "      <td>RD</td>\n",
       "    </tr>\n",
       "    <tr>\n",
       "      <th>49996</th>\n",
       "      <td>174ZYG</td>\n",
       "      <td>CT</td>\n",
       "      <td>TOYOT</td>\n",
       "      <td>0828A</td>\n",
       "      <td>W 13th St</td>\n",
       "      <td>BLACK</td>\n",
       "    </tr>\n",
       "    <tr>\n",
       "      <th>49997</th>\n",
       "      <td>HES6895</td>\n",
       "      <td>NY</td>\n",
       "      <td>CADIL</td>\n",
       "      <td>0933P</td>\n",
       "      <td>E 182nd St</td>\n",
       "      <td>RD</td>\n",
       "    </tr>\n",
       "    <tr>\n",
       "      <th>49998</th>\n",
       "      <td>63035MN</td>\n",
       "      <td>NY</td>\n",
       "      <td>ISUZU</td>\n",
       "      <td>1215P</td>\n",
       "      <td>W Kingsbridge Rd</td>\n",
       "      <td>WH</td>\n",
       "    </tr>\n",
       "    <tr>\n",
       "      <th>49999</th>\n",
       "      <td>AW74165</td>\n",
       "      <td>CT</td>\n",
       "      <td>HONDA</td>\n",
       "      <td>0128P</td>\n",
       "      <td>Canal Pl</td>\n",
       "      <td>BLACK</td>\n",
       "    </tr>\n",
       "  </tbody>\n",
       "</table>\n",
       "<p>50000 rows × 6 columns</p>\n",
       "</div>"
      ],
      "text/plain": [
       "      Plate ID Registration State Vehicle Make Violation Time  \\\n",
       "0      KGK6659                 NY          BMW          0637P   \n",
       "1      L5232HY                 TN        INTER          0853A   \n",
       "2       BPMN76                 FL        NISSA          0853A   \n",
       "3      57387MJ                 NY          NaN          0444P   \n",
       "4       M81KFJ                 NJ        TOYOT          0723A   \n",
       "...        ...                ...          ...            ...   \n",
       "49995  JPN4910                 NY         FORD          0342P   \n",
       "49996   174ZYG                 CT        TOYOT          0828A   \n",
       "49997  HES6895                 NY        CADIL          0933P   \n",
       "49998  63035MN                 NY        ISUZU          1215P   \n",
       "49999  AW74165                 CT        HONDA          0128P   \n",
       "\n",
       "                Street Name Vehicle Color  \n",
       "0      WB ATLANTIC AVE @ SH            GY  \n",
       "1       Rockaway Beach Blvd         WHITE  \n",
       "2                W 113th St         BLACK  \n",
       "3                 W 33rd St            WH  \n",
       "4      WB FOSTER AVE @ E 18           NaN  \n",
       "...                     ...           ...  \n",
       "49995   EB E 125TH ST @ 2ND            RD  \n",
       "49996             W 13th St         BLACK  \n",
       "49997            E 182nd St            RD  \n",
       "49998      W Kingsbridge Rd            WH  \n",
       "49999              Canal Pl         BLACK  \n",
       "\n",
       "[50000 rows x 6 columns]"
      ]
     },
     "execution_count": 6,
     "metadata": {},
     "output_type": "execute_result"
    }
   ],
   "source": [
    " # Import violation csv dataset with specific columns\n",
    "    \n",
    "violations = pd.read_csv(\"violations.csv\", usecols = ['Plate ID', 'Registration State', 'Vehicle Make', 'Vehicle Color', 'Violation Time', 'Street Name'])\n",
    "violations"
   ]
  },
  {
   "cell_type": "code",
   "execution_count": 15,
   "id": "359f6400",
   "metadata": {},
   "outputs": [
    {
     "name": "stdout",
     "output_type": "stream",
     "text": [
      "<class 'pandas.core.frame.DataFrame'>\n",
      "RangeIndex: 50000 entries, 0 to 49999\n",
      "Data columns (total 6 columns):\n",
      " #   Column              Non-Null Count  Dtype \n",
      "---  ------              --------------  ----- \n",
      " 0   Plate ID            50000 non-null  object\n",
      " 1   Registration State  50000 non-null  object\n",
      " 2   Vehicle Make        49864 non-null  object\n",
      " 3   Violation Time      49999 non-null  object\n",
      " 4   Street Name         49990 non-null  object\n",
      " 5   Vehicle Color       47583 non-null  object\n",
      "dtypes: object(6)\n",
      "memory usage: 2.3+ MB\n"
     ]
    },
    {
     "data": {
      "text/plain": [
       "Plate ID                 0\n",
       "Registration State       0\n",
       "Vehicle Make           136\n",
       "Violation Time           1\n",
       "Street Name             10\n",
       "Vehicle Color         2417\n",
       "dtype: int64"
      ]
     },
     "execution_count": 15,
     "metadata": {},
     "output_type": "execute_result"
    }
   ],
   "source": [
    "violations.info()\n",
    "violations.isna().sum()"
   ]
  },
  {
   "cell_type": "code",
   "execution_count": 11,
   "id": "36825b80",
   "metadata": {},
   "outputs": [
    {
     "data": {
      "text/plain": [
       "Plate ID                 0\n",
       "Registration State       0\n",
       "Vehicle Make           134\n",
       "Violation Time           1\n",
       "Street Name              0\n",
       "Vehicle Color         2415\n",
       "dtype: int64"
      ]
     },
     "execution_count": 11,
     "metadata": {},
     "output_type": "execute_result"
    }
   ],
   "source": [
    "#remove rows with missing data\n",
    "df = violations.dropna(subset = ['Plate ID', 'Registration State', 'Street Name'])\n",
    "\n",
    "df.isna().sum()"
   ]
  },
  {
   "cell_type": "code",
   "execution_count": 13,
   "id": "225e01f4",
   "metadata": {},
   "outputs": [
    {
     "name": "stdout",
     "output_type": "stream",
     "text": [
      "Total number of people dismissed by the state of New York is 49990\n"
     ]
    }
   ],
   "source": [
    "no_to_dismiss = df[['Plate ID', 'Registration State', 'Street Name']].count()\n",
    "no_to_dismiss\n",
    "\n",
    "total_to_dismiss = no_to_dismiss[0]\n",
    "print(f\"Total number of people dismissed by the state of New York is {total_to_dismiss}\")"
   ]
  },
  {
   "cell_type": "code",
   "execution_count": 14,
   "id": "4398d4d5",
   "metadata": {},
   "outputs": [
    {
     "name": "stdout",
     "output_type": "stream",
     "text": [
      "Total amount lost by the state of New York is $4999000\n"
     ]
    }
   ],
   "source": [
    "amount_lost = total_to_dismiss * 100\n",
    "print(f\"Total amount lost by the state of New York is ${amount_lost}\")"
   ]
  },
  {
   "cell_type": "code",
   "execution_count": null,
   "id": "3e719680",
   "metadata": {},
   "outputs": [],
   "source": []
  }
 ],
 "metadata": {
  "kernelspec": {
   "display_name": "Python 3 (ipykernel)",
   "language": "python",
   "name": "python3"
  },
  "language_info": {
   "codemirror_mode": {
    "name": "ipython",
    "version": 3
   },
   "file_extension": ".py",
   "mimetype": "text/x-python",
   "name": "python",
   "nbconvert_exporter": "python",
   "pygments_lexer": "ipython3",
   "version": "3.10.7"
  }
 },
 "nbformat": 4,
 "nbformat_minor": 5
}
